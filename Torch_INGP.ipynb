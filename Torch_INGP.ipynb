{
  "cells": [
    {
      "cell_type": "code",
      "execution_count": null,
      "metadata": {
        "colab": {
          "base_uri": "https://localhost:8080/"
        },
        "id": "C0Ix6nf42Zq2",
        "outputId": "04a32f99-937a-4af9-b637-6e12a480c0b5"
      },
      "outputs": [],
      "source": [
        "!git clone https://github.com/ashawkey/torch-ngp.git"
      ]
    },
    {
      "cell_type": "code",
      "execution_count": null,
      "metadata": {
        "colab": {
          "base_uri": "https://localhost:8080/"
        },
        "id": "Keva18uK27jV",
        "outputId": "53079e43-884a-4078-c150-495f653a339a"
      },
      "outputs": [],
      "source": [
        "!git clone https://github.com/NVlabs/instant-ngp.git"
      ]
    },
    {
      "cell_type": "code",
      "execution_count": null,
      "metadata": {
        "colab": {
          "base_uri": "https://localhost:8080/"
        },
        "id": "R5UBTBH-2hzS",
        "outputId": "6f44458e-c1f7-4c54-feb1-6a76210635e6"
      },
      "outputs": [],
      "source": [
        "!pip install git+https://github.com/NVlabs/tiny-cuda-nn/#subdirectory=bindings/torch"
      ]
    },
    {
      "cell_type": "code",
      "execution_count": null,
      "metadata": {
        "id": "5hdz_B-s2jyN"
      },
      "outputs": [],
      "source": [
        "%cd 'torch-ngp'"
      ]
    },
    {
      "cell_type": "code",
      "execution_count": null,
      "metadata": {
        "id": "J7xM51Fx2ooO"
      },
      "outputs": [],
      "source": [
        "!pip install -r requirements.txt"
      ]
    },
    {
      "cell_type": "code",
      "execution_count": null,
      "metadata": {
        "id": "O0GWgqc_2mHg"
      },
      "outputs": [],
      "source": [
        "!python main_nerf.py /content/instant-ngp/data/nerf/fox --workspace trial_nerf --fp16 --tcnn "
      ]
    }
  ],
  "metadata": {
    "accelerator": "GPU",
    "colab": {
      "name": "Torch_INGP.ipynb",
      "provenance": []
    },
    "kernelspec": {
      "display_name": "Python 3",
      "name": "python3"
    },
    "language_info": {
      "name": "python"
    }
  },
  "nbformat": 4,
  "nbformat_minor": 0
}
