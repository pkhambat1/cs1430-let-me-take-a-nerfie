{
  "cells": [
    {
      "cell_type": "markdown",
      "metadata": {
        "id": "view-in-github",
        "colab_type": "text"
      },
      "source": [
        "<a href=\"https://colab.research.google.com/github/pkhambat1/cs1430-torchngp/blob/main/grid_encoder_playground.ipynb\" target=\"_parent\"><img src=\"https://colab.research.google.com/assets/colab-badge.svg\" alt=\"Open In Colab\"/></a>"
      ]
    },
    {
      "cell_type": "code",
      "execution_count": null,
      "metadata": {
        "id": "ROiJ50npVliY"
      },
      "outputs": [],
      "source": [
        "# from google.colab import drive\n",
        "# drive.mount('/content/drive')"
      ]
    },
    {
      "cell_type": "markdown",
      "metadata": {
        "id": "s2qBAn1mSoIm"
      },
      "source": [
        "#SANITY CHECKS"
      ]
    },
    {
      "cell_type": "code",
      "execution_count": null,
      "metadata": {
        "id": "4PmsZqAKSm5s"
      },
      "outputs": [],
      "source": [
        "!nvidia-smi"
      ]
    },
    {
      "cell_type": "markdown",
      "metadata": {
        "id": "IBX60jRIFeD0"
      },
      "source": [
        "#GIT CLONE"
      ]
    },
    {
      "cell_type": "code",
      "execution_count": null,
      "metadata": {
        "id": "zoyU1-Hk8Ehq"
      },
      "outputs": [],
      "source": [
        "!git clone https://github.com/NVlabs/instant-ngp.git"
      ]
    },
    {
      "cell_type": "code",
      "execution_count": null,
      "metadata": {
        "id": "5Q6J-yHpq9FE"
      },
      "outputs": [],
      "source": [
        "!ls"
      ]
    },
    {
      "cell_type": "code",
      "execution_count": null,
      "metadata": {
        "id": "SbRLmzKyFhur"
      },
      "outputs": [],
      "source": [
        "# !rm -rf torch-ngp\n",
        "!git clone https://github.com/pkhambat1/torch-ngp.git\n",
        "%cd torch-ngp\n",
        "!git pull"
      ]
    },
    {
      "cell_type": "code",
      "execution_count": null,
      "metadata": {
        "id": "gC6rdPqzYkab"
      },
      "outputs": [],
      "source": [
        "# !git clone https://github.com/colmap/colmap"
      ]
    },
    {
      "cell_type": "code",
      "execution_count": null,
      "metadata": {
        "id": "Kj15NB4j1Z6r"
      },
      "outputs": [],
      "source": [
        "# !sudo apt update\n",
        "# !sudo apt install colmap"
      ]
    },
    {
      "cell_type": "markdown",
      "metadata": {
        "id": "v_9dmxMGVfvu"
      },
      "source": [
        "#IMPORTS"
      ]
    },
    {
      "cell_type": "markdown",
      "metadata": {
        "id": "N00kAZ9JaJ_2"
      },
      "source": [
        "requirements.txt"
      ]
    },
    {
      "cell_type": "markdown",
      "metadata": {
        "id": "a-kUFacjpwjn"
      },
      "source": [
        "Install TinyCUDA (Not required for now)"
      ]
    },
    {
      "cell_type": "code",
      "execution_count": null,
      "metadata": {
        "id": "sGe70X1LRcEX"
      },
      "outputs": [],
      "source": [
        "!pip install git+https://github.com/NVlabs/tiny-cuda-nn/#subdirectory=bindings/torch"
      ]
    },
    {
      "cell_type": "markdown",
      "metadata": {
        "id": "o1LBDW4haHSJ"
      },
      "source": [
        "Requirements"
      ]
    },
    {
      "cell_type": "code",
      "execution_count": null,
      "metadata": {
        "id": "hfj6Z4KtaM-P"
      },
      "outputs": [],
      "source": [
        "!pip3 install -r requirements.txt"
      ]
    },
    {
      "cell_type": "code",
      "execution_count": null,
      "metadata": {
        "id": "ysKfC6FKVWnr"
      },
      "outputs": [],
      "source": [
        "import torch\n",
        "torch.cuda.is_available()"
      ]
    },
    {
      "cell_type": "markdown",
      "metadata": {
        "id": "F-sB8gk9awqa"
      },
      "source": [
        "#BUILD PACKAGES"
      ]
    },
    {
      "cell_type": "code",
      "execution_count": null,
      "metadata": {
        "id": "QaPa_SnkYg0p"
      },
      "outputs": [],
      "source": [
        "!chmod +x scripts/*"
      ]
    },
    {
      "cell_type": "code",
      "execution_count": null,
      "metadata": {
        "colab": {
          "background_save": true
        },
        "id": "0lzy_1jxa41S"
      },
      "outputs": [],
      "source": [
        "!./scripts/install_ext.sh"
      ]
    },
    {
      "cell_type": "code",
      "execution_count": null,
      "metadata": {
        "colab": {
          "background_save": true
        },
        "id": "UXcKs1qmv8SO"
      },
      "outputs": [],
      "source": [
        "# %cd ..\n",
        "# !git clone --recurse-submodules https://github.com/NVIDIA/DeepLearningExamples.git\n",
        "# !git submodule update --init --recursive\n",
        "# %cd torch-ngp"
      ]
    },
    {
      "cell_type": "markdown",
      "metadata": {
        "id": "OIP3Nspu6HmI"
      },
      "source": [
        "Doesn't work :("
      ]
    },
    {
      "cell_type": "code",
      "execution_count": null,
      "metadata": {
        "colab": {
          "background_save": true
        },
        "id": "f0yQ0oHkqMPP"
      },
      "outputs": [],
      "source": [
        "# %cd ffmlp/\n",
        "# !python setup.py build_ext --inplace # build ext only, do not install (only can be used in the parent directory)\n",
        "# !pip install .\n",
        "# %cd .."
      ]
    },
    {
      "cell_type": "markdown",
      "metadata": {
        "id": "5VurGuMNtM-s"
      },
      "source": [
        "##Train"
      ]
    },
    {
      "cell_type": "code",
      "execution_count": null,
      "metadata": {
        "colab": {
          "background_save": true
        },
        "id": "daR4ecuNSFtU"
      },
      "outputs": [],
      "source": [
        "!python main_nerf.py ../instant-ngp/data/nerf/fox --workspace trial_nerf --fp16 "
      ]
    },
    {
      "cell_type": "code",
      "execution_count": null,
      "metadata": {
        "colab": {
          "background_save": true
        },
        "id": "fv0qVxoNZ3W2"
      },
      "outputs": [],
      "source": [
        ""
      ]
    },
    {
      "cell_type": "code",
      "execution_count": null,
      "metadata": {
        "colab": {
          "background_save": true
        },
        "id": "bwP641YnZmp0"
      },
      "outputs": [],
      "source": [
        "\n",
        "# %pwd\n",
        "# %cd colmap\n",
        "# !git checkout dev\n",
        "# !mkdir build\n",
        "# %cd build\n",
        "# !cmake ..\n",
        "# !make -j\n",
        "# !sudo make install"
      ]
    },
    {
      "cell_type": "code",
      "execution_count": null,
      "metadata": {
        "colab": {
          "background_save": true
        },
        "id": "2WmusyGT1vd4"
      },
      "outputs": [],
      "source": [
        ""
      ]
    },
    {
      "cell_type": "code",
      "execution_count": null,
      "metadata": {
        "colab": {
          "background_save": true
        },
        "id": "bq-uhoeiZB4Y"
      },
      "outputs": [],
      "source": [
        "%cd torch-ngp/"
      ]
    },
    {
      "cell_type": "markdown",
      "metadata": {
        "id": "9mxO8mmo7Mrm"
      },
      "source": [
        "Generate transformations.json with Colmap (not working in Colab)"
      ]
    },
    {
      "cell_type": "code",
      "execution_count": null,
      "metadata": {
        "colab": {
          "background_save": true
        },
        "id": "XfeNyIbUYBBD"
      },
      "outputs": [],
      "source": [
        "# !python colmap2nerf.py --images ../instant-ngp/data/nerf/fox/images/ --run_colmap # if use images"
      ]
    },
    {
      "cell_type": "markdown",
      "source": [
        ""
      ],
      "metadata": {
        "id": "ni78ITQ6APx6"
      }
    },
    {
      "cell_type": "markdown",
      "metadata": {
        "id": "1HHYkEertOo8"
      },
      "source": [
        "Test"
      ]
    },
    {
      "cell_type": "code",
      "execution_count": null,
      "metadata": {
        "id": "28q6avScrrC8"
      },
      "outputs": [],
      "source": [
        "!python main_nerf.py ../instant-ngp/data/nerf/fox --workspace trial_nerf --fp16 --test"
      ]
    },
    {
      "cell_type": "markdown",
      "metadata": {
        "id": "7y6p19j8t_UH"
      },
      "source": [
        "#HYPERPARAMETER TUNING"
      ]
    },
    {
      "cell_type": "markdown",
      "metadata": {
        "id": "Q3BIetKUOcJs"
      },
      "source": [
        "Visualize GridEncoder"
      ]
    },
    {
      "cell_type": "code",
      "execution_count": null,
      "metadata": {
        "colab": {
          "background_save": true
        },
        "id": "Wk8Lf5JOEkrI"
      },
      "outputs": [],
      "source": [
        "from gridencoder import GridEncoder"
      ]
    },
    {
      "cell_type": "code",
      "execution_count": null,
      "metadata": {
        "colab": {
          "background_save": true
        },
        "id": "kucz5MywOv2m"
      },
      "outputs": [],
      "source": [
        "hp_0 = {\n",
        "  'd': 3, \n",
        "  'L': 16,\n",
        "  'F': 2,\n",
        "  'N_min': 16,\n",
        "  'b': 1.26,\n",
        "  'gridtype': 'hash',\n",
        "  'log2_hashmap_size': 19,\n",
        "} "
      ]
    },
    {
      "cell_type": "code",
      "execution_count": null,
      "metadata": {
        "colab": {
          "background_save": true
        },
        "id": "sHBx9A_TNdsi"
      },
      "outputs": [],
      "source": [
        "ge = GridEncoder(**hp_0)\n",
        "print(ge)"
      ]
    },
    {
      "cell_type": "markdown",
      "metadata": {
        "id": "cb082JBAOD3V"
      },
      "source": [
        "Define hyperparams"
      ]
    },
    {
      "cell_type": "code",
      "execution_count": null,
      "metadata": {
        "colab": {
          "background_save": true
        },
        "id": "ayOYHNrVJrIc"
      },
      "outputs": [],
      "source": [
        "import pickle"
      ]
    },
    {
      "cell_type": "code",
      "execution_count": null,
      "metadata": {
        "colab": {
          "background_save": true
        },
        "id": "0IQb2cxku0a_"
      },
      "outputs": [],
      "source": [
        "hp_1 = {\n",
        "  'd': 3, \n",
        "  'L': 16,\n",
        "  'F': 2,\n",
        "  'N_min': 16,\n",
        "  'b': 2,\n",
        "  'gridtype': 'hash',\n",
        "  'log2_hashmap_size': 19,\n",
        "} "
      ]
    },
    {
      "cell_type": "markdown",
      "metadata": {
        "id": "tKQpbkqhOIwV"
      },
      "source": [
        "Save hyperparams"
      ]
    },
    {
      "cell_type": "code",
      "execution_count": null,
      "metadata": {
        "colab": {
          "background_save": true
        },
        "id": "BhraiOyjI4_3"
      },
      "outputs": [],
      "source": [
        "with open('gridencoder/hyperparams/hp_1.pickle', 'wb') as f:\n",
        "    pickle.dump(hp_1, f)"
      ]
    },
    {
      "cell_type": "markdown",
      "metadata": {
        "id": "E3m6zQmhOAy9"
      },
      "source": [
        "Train with Hyperparams"
      ]
    },
    {
      "cell_type": "code",
      "execution_count": null,
      "metadata": {
        "id": "qZqnW4QqMgMA"
      },
      "outputs": [],
      "source": [
        "!python main_nerf.py ../instant-ngp/data/nerf/fox --workspace trial_nerf --fp16 -hyperparams_path gridencoder/hyperparams/hp_1.pickle"
      ]
    }
  ],
  "metadata": {
    "accelerator": "GPU",
    "colab": {
      "collapsed_sections": [],
      "name": "grid_encoder_playground.ipynb",
      "provenance": [],
      "include_colab_link": true
    },
    "kernelspec": {
      "display_name": "Python 3",
      "name": "python3"
    },
    "language_info": {
      "name": "python"
    }
  },
  "nbformat": 4,
  "nbformat_minor": 0
}