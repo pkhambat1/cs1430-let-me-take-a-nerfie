{
  "cells": [
    {
      "cell_type": "markdown",
      "metadata": {
        "id": "view-in-github",
        "colab_type": "text"
      },
      "source": [
        "<a href=\"https://colab.research.google.com/github/pkhambat1/cs1430-let-me-take-a-nerfie/blob/main/let_me_take_a_nerfie.ipynb\" target=\"_parent\"><img src=\"https://colab.research.google.com/assets/colab-badge.svg\" alt=\"Open In Colab\"/></a>"
      ]
    },
    {
      "cell_type": "markdown",
      "source": [
        "#Hi!"
      ],
      "metadata": {
        "id": "G_BU_Wffbuco"
      }
    },
    {
      "cell_type": "markdown",
      "source": [
        "Thanks for stopping by the let-me-take-a-nerfie notebook! We are team Let Me Take a NeRFie (Aditya Parameswaran, Gaurav Sharma, Pezanne Khambatta, Prashanthi Ramachandran)\n",
        "\n",
        "We've made this notebook for you to be able to train your very own NeRF without any configuration hassles or hardware mismatches. Have fun!"
      ],
      "metadata": {
        "id": "tiTPGkw0Yz7J"
      }
    },
    {
      "cell_type": "code",
      "execution_count": 1,
      "metadata": {
        "id": "ROiJ50npVliY",
        "colab": {
          "base_uri": "https://localhost:8080/"
        },
        "outputId": "d3f68c0d-0c71-42aa-b118-ed3de71e3c0c"
      },
      "outputs": [
        {
          "output_type": "stream",
          "name": "stdout",
          "text": [
            "Drive already mounted at /content/drive; to attempt to forcibly remount, call drive.mount(\"/content/drive\", force_remount=True).\n"
          ]
        }
      ],
      "source": [
        "from google.colab import drive\n",
        "drive.mount('/content/drive')"
      ]
    },
    {
      "cell_type": "markdown",
      "metadata": {
        "id": "s2qBAn1mSoIm"
      },
      "source": [
        "#GPU CHECK"
      ]
    },
    {
      "cell_type": "code",
      "execution_count": 3,
      "metadata": {
        "id": "4PmsZqAKSm5s",
        "colab": {
          "base_uri": "https://localhost:8080/"
        },
        "outputId": "d89bac4e-0b68-48bd-f3cb-fc6292abc348"
      },
      "outputs": [
        {
          "output_type": "stream",
          "name": "stdout",
          "text": [
            "Wed May 11 02:41:09 2022       \n",
            "+-----------------------------------------------------------------------------+\n",
            "| NVIDIA-SMI 460.32.03    Driver Version: 460.32.03    CUDA Version: 11.2     |\n",
            "|-------------------------------+----------------------+----------------------+\n",
            "| GPU  Name        Persistence-M| Bus-Id        Disp.A | Volatile Uncorr. ECC |\n",
            "| Fan  Temp  Perf  Pwr:Usage/Cap|         Memory-Usage | GPU-Util  Compute M. |\n",
            "|                               |                      |               MIG M. |\n",
            "|===============================+======================+======================|\n",
            "|   0  Tesla P100-PCIE...  Off  | 00000000:00:04.0 Off |                    0 |\n",
            "| N/A   40C    P0    26W / 250W |      0MiB / 16280MiB |      0%      Default |\n",
            "|                               |                      |                  N/A |\n",
            "+-------------------------------+----------------------+----------------------+\n",
            "                                                                               \n",
            "+-----------------------------------------------------------------------------+\n",
            "| Processes:                                                                  |\n",
            "|  GPU   GI   CI        PID   Type   Process name                  GPU Memory |\n",
            "|        ID   ID                                                   Usage      |\n",
            "|=============================================================================|\n",
            "|  No running processes found                                                 |\n",
            "+-----------------------------------------------------------------------------+\n"
          ]
        }
      ],
      "source": [
        "!nvidia-smi"
      ]
    },
    {
      "cell_type": "markdown",
      "source": [
        "#Download Helper Code and Input Files"
      ],
      "metadata": {
        "id": "DABq0dDAXGmK"
      }
    },
    {
      "cell_type": "markdown",
      "source": [
        "Download NeRF Synthetic Data"
      ],
      "metadata": {
        "id": "xmCm9u-6W18D"
      }
    },
    {
      "cell_type": "code",
      "source": [
        "!mkdir -p nerf_example_data\n",
        "%cd nerf_example_data\n",
        "!wget http://cseweb.ucsd.edu/~viscomp/projects/LF/papers/ECCV20/nerf/nerf_example_data.zip\n",
        "!unzip nerf_example_data.zip\n",
        "!rm nerf_example_data.zip\n",
        "%cd .."
      ],
      "metadata": {
        "id": "s8erP_pJ58GP"
      },
      "execution_count": null,
      "outputs": []
    },
    {
      "cell_type": "markdown",
      "metadata": {
        "id": "IBX60jRIFeD0"
      },
      "source": [
        "Clone Nvidia's Instant-NGP"
      ]
    },
    {
      "cell_type": "code",
      "execution_count": 23,
      "metadata": {
        "id": "zoyU1-Hk8Ehq",
        "colab": {
          "base_uri": "https://localhost:8080/"
        },
        "outputId": "91708b78-5d38-424c-c8ee-59cd9d85af8e"
      },
      "outputs": [
        {
          "output_type": "stream",
          "name": "stdout",
          "text": [
            "Cloning into 'instant-ngp'...\n",
            "remote: Enumerating objects: 1872, done.\u001b[K\n",
            "remote: Counting objects: 100% (128/128), done.\u001b[K\n",
            "remote: Compressing objects: 100% (85/85), done.\u001b[K\n",
            "remote: Total 1872 (delta 57), reused 84 (delta 42), pack-reused 1744\u001b[K\n",
            "Receiving objects: 100% (1872/1872), 185.28 MiB | 40.86 MiB/s, done.\n",
            "Resolving deltas: 100% (1024/1024), done.\n"
          ]
        }
      ],
      "source": [
        "!git clone https://github.com/NVlabs/instant-ngp.git"
      ]
    },
    {
      "cell_type": "markdown",
      "source": [
        "Clone let-me-take-a-nerfie (our project)"
      ],
      "metadata": {
        "id": "XB1iv_CHXsan"
      }
    },
    {
      "cell_type": "code",
      "execution_count": 25,
      "metadata": {
        "id": "SbRLmzKyFhur",
        "colab": {
          "base_uri": "https://localhost:8080/"
        },
        "outputId": "894943da-621d-4c67-f97d-28450694a866"
      },
      "outputs": [
        {
          "output_type": "stream",
          "name": "stdout",
          "text": [
            "fatal: destination path 'cs1430-let-me-take-a-nerfie' already exists and is not an empty directory.\n",
            "/content/torch-ngp/cs1430-let-me-take-a-nerfie\n"
          ]
        }
      ],
      "source": [
        "!git clone https://github.com/pkhambat1/cs1430-let-me-take-a-nerfie.git\n",
        "%cd cs1430-let-me-take-a-nerfie/"
      ]
    },
    {
      "cell_type": "markdown",
      "metadata": {
        "id": "v_9dmxMGVfvu"
      },
      "source": [
        "#IMPORTS"
      ]
    },
    {
      "cell_type": "markdown",
      "metadata": {
        "id": "a-kUFacjpwjn"
      },
      "source": [
        "Install TinyCUDA (Not required for now)"
      ]
    },
    {
      "cell_type": "code",
      "execution_count": 26,
      "metadata": {
        "id": "sGe70X1LRcEX"
      },
      "outputs": [],
      "source": [
        "# !pip install git+https://github.com/NVlabs/tiny-cuda-nn/#subdirectory=bindings/torch"
      ]
    },
    {
      "cell_type": "markdown",
      "metadata": {
        "id": "N00kAZ9JaJ_2"
      },
      "source": [
        "requirements.txt"
      ]
    },
    {
      "cell_type": "code",
      "execution_count": 7,
      "metadata": {
        "id": "hfj6Z4KtaM-P",
        "colab": {
          "base_uri": "https://localhost:8080/"
        },
        "outputId": "6ab077df-3bf8-4e68-d9d4-254a7e51b664"
      },
      "outputs": [
        {
          "output_type": "stream",
          "name": "stdout",
          "text": [
            "Requirement already satisfied: torch-ema in /usr/local/lib/python3.7/dist-packages (from -r requirements.txt (line 1)) (0.3)\n",
            "Requirement already satisfied: ninja in /usr/local/lib/python3.7/dist-packages (from -r requirements.txt (line 2)) (1.10.2.3)\n",
            "Requirement already satisfied: trimesh in /usr/local/lib/python3.7/dist-packages (from -r requirements.txt (line 3)) (3.12.0)\n",
            "Requirement already satisfied: opencv-python in /usr/local/lib/python3.7/dist-packages (from -r requirements.txt (line 4)) (4.1.2.30)\n",
            "Requirement already satisfied: tensorboardX in /usr/local/lib/python3.7/dist-packages (from -r requirements.txt (line 5)) (2.5)\n",
            "Requirement already satisfied: torch in /usr/local/lib/python3.7/dist-packages (from -r requirements.txt (line 6)) (1.11.0+cu113)\n",
            "Requirement already satisfied: numpy in /usr/local/lib/python3.7/dist-packages (from -r requirements.txt (line 7)) (1.21.6)\n",
            "Requirement already satisfied: pandas in /usr/local/lib/python3.7/dist-packages (from -r requirements.txt (line 8)) (1.3.5)\n",
            "Requirement already satisfied: tqdm in /usr/local/lib/python3.7/dist-packages (from -r requirements.txt (line 9)) (4.64.0)\n",
            "Requirement already satisfied: matplotlib in /usr/local/lib/python3.7/dist-packages (from -r requirements.txt (line 10)) (3.2.2)\n",
            "Requirement already satisfied: PyMCubes in /usr/local/lib/python3.7/dist-packages (from -r requirements.txt (line 11)) (0.1.2)\n",
            "Requirement already satisfied: rich in /usr/local/lib/python3.7/dist-packages (from -r requirements.txt (line 12)) (12.4.1)\n",
            "Requirement already satisfied: pysdf in /usr/local/lib/python3.7/dist-packages (from -r requirements.txt (line 13)) (0.1.8)\n",
            "Requirement already satisfied: dearpygui in /usr/local/lib/python3.7/dist-packages (from -r requirements.txt (line 14)) (1.6.2)\n",
            "Requirement already satisfied: packaging in /usr/local/lib/python3.7/dist-packages (from -r requirements.txt (line 15)) (21.3)\n",
            "Requirement already satisfied: scipy in /usr/local/lib/python3.7/dist-packages (from -r requirements.txt (line 16)) (1.4.1)\n",
            "Requirement already satisfied: six in /usr/local/lib/python3.7/dist-packages (from tensorboardX->-r requirements.txt (line 5)) (1.15.0)\n",
            "Requirement already satisfied: protobuf>=3.8.0 in /usr/local/lib/python3.7/dist-packages (from tensorboardX->-r requirements.txt (line 5)) (3.17.3)\n",
            "Requirement already satisfied: typing-extensions in /usr/local/lib/python3.7/dist-packages (from torch->-r requirements.txt (line 6)) (4.2.0)\n",
            "Requirement already satisfied: python-dateutil>=2.7.3 in /usr/local/lib/python3.7/dist-packages (from pandas->-r requirements.txt (line 8)) (2.8.2)\n",
            "Requirement already satisfied: pytz>=2017.3 in /usr/local/lib/python3.7/dist-packages (from pandas->-r requirements.txt (line 8)) (2022.1)\n",
            "Requirement already satisfied: kiwisolver>=1.0.1 in /usr/local/lib/python3.7/dist-packages (from matplotlib->-r requirements.txt (line 10)) (1.4.2)\n",
            "Requirement already satisfied: pyparsing!=2.0.4,!=2.1.2,!=2.1.6,>=2.0.1 in /usr/local/lib/python3.7/dist-packages (from matplotlib->-r requirements.txt (line 10)) (3.0.8)\n",
            "Requirement already satisfied: cycler>=0.10 in /usr/local/lib/python3.7/dist-packages (from matplotlib->-r requirements.txt (line 10)) (0.11.0)\n",
            "Requirement already satisfied: commonmark<0.10.0,>=0.9.0 in /usr/local/lib/python3.7/dist-packages (from rich->-r requirements.txt (line 12)) (0.9.1)\n",
            "Requirement already satisfied: pygments<3.0.0,>=2.6.0 in /usr/local/lib/python3.7/dist-packages (from rich->-r requirements.txt (line 12)) (2.6.1)\n"
          ]
        }
      ],
      "source": [
        "!pip3 install -r requirements.txt"
      ]
    },
    {
      "cell_type": "code",
      "execution_count": 27,
      "metadata": {
        "id": "ysKfC6FKVWnr",
        "colab": {
          "base_uri": "https://localhost:8080/"
        },
        "outputId": "6dc799af-8288-4864-b5ef-b81be5998a40"
      },
      "outputs": [
        {
          "output_type": "execute_result",
          "data": {
            "text/plain": [
              "True"
            ]
          },
          "metadata": {},
          "execution_count": 27
        }
      ],
      "source": [
        "import torch\n",
        "torch.cuda.is_available()"
      ]
    },
    {
      "cell_type": "code",
      "source": [
        "!ls"
      ],
      "metadata": {
        "colab": {
          "base_uri": "https://localhost:8080/"
        },
        "id": "I0ZE5b86xhjZ",
        "outputId": "2fa45d8c-ee0c-4326-f3c7-8ce7170a768a"
      },
      "execution_count": 28,
      "outputs": [
        {
          "output_type": "stream",
          "name": "stdout",
          "text": [
            "activation.py\tenvironment.yml  main_nerf.py  readme.md\t shencoder\n",
            "colmap2nerf.py\tgridencoder\t nerf\t       requirements.txt  tanks2nerf.py\n",
            "encoding.py\tLICENSE\t\t raymarching   scripts\t\t testing\n"
          ]
        }
      ]
    },
    {
      "cell_type": "markdown",
      "metadata": {
        "id": "F-sB8gk9awqa"
      },
      "source": [
        "#BUILD CUDA PACKAGES"
      ]
    },
    {
      "cell_type": "code",
      "execution_count": 29,
      "metadata": {
        "id": "QaPa_SnkYg0p"
      },
      "outputs": [],
      "source": [
        "!chmod +x scripts/*"
      ]
    },
    {
      "cell_type": "code",
      "execution_count": 30,
      "metadata": {
        "colab": {
          "base_uri": "https://localhost:8080/"
        },
        "id": "0lzy_1jxa41S",
        "outputId": "1c01b420-c1c4-4ee3-a93c-e77afda26740"
      },
      "outputs": [
        {
          "output_type": "stream",
          "name": "stdout",
          "text": [
            "Processing /content/torch-ngp/cs1430-let-me-take-a-nerfie/raymarching\n",
            "\u001b[33m  DEPRECATION: A future pip version will change local packages to be built in-place without first copying to a temporary directory. We recommend you use --use-feature=in-tree-build to test your packages with this new behavior before it becomes the default.\n",
            "   pip 21.3 will remove support for this functionality. You can find discussion regarding this at https://github.com/pypa/pip/issues/7555.\u001b[0m\n",
            "Building wheels for collected packages: raymarching\n",
            "  Building wheel for raymarching (setup.py) ... \u001b[?25l\u001b[?25hdone\n",
            "  Created wheel for raymarching: filename=raymarching-0.0.0-cp37-cp37m-linux_x86_64.whl size=1282164 sha256=4acafac48670904eb37c892c0476b013615f2a2fa61736b4f817b88a6bbe76fc\n",
            "  Stored in directory: /tmp/pip-ephem-wheel-cache-o041jze9/wheels/f7/a4/aa/5678fab93bf14fd32b553b64dab5e4ba0d793d319cd41c6791\n",
            "Successfully built raymarching\n",
            "Installing collected packages: raymarching\n",
            "  Attempting uninstall: raymarching\n",
            "    Found existing installation: raymarching 0.0.0\n",
            "    Uninstalling raymarching-0.0.0:\n",
            "      Successfully uninstalled raymarching-0.0.0\n",
            "Successfully installed raymarching-0.0.0\n",
            "Processing /content/torch-ngp/cs1430-let-me-take-a-nerfie/gridencoder\n",
            "\u001b[33m  DEPRECATION: A future pip version will change local packages to be built in-place without first copying to a temporary directory. We recommend you use --use-feature=in-tree-build to test your packages with this new behavior before it becomes the default.\n",
            "   pip 21.3 will remove support for this functionality. You can find discussion regarding this at https://github.com/pypa/pip/issues/7555.\u001b[0m\n",
            "Building wheels for collected packages: gridencoder\n",
            "  Building wheel for gridencoder (setup.py) ... \u001b[?25l\u001b[?25hdone\n",
            "  Created wheel for gridencoder: filename=gridencoder-0.0.0-cp37-cp37m-linux_x86_64.whl size=1647225 sha256=cf370eea078be79b361b28a3b393a5b6d86d5945e1bba90d33f0665cb51a9792\n",
            "  Stored in directory: /tmp/pip-ephem-wheel-cache-rqera38r/wheels/b8/a8/4f/2a1a4dec75b68d53b2ff7c8b6b152a3ef888f6443f55196bc7\n",
            "Successfully built gridencoder\n",
            "Installing collected packages: gridencoder\n",
            "  Attempting uninstall: gridencoder\n",
            "    Found existing installation: gridencoder 0.0.0\n",
            "    Uninstalling gridencoder-0.0.0:\n",
            "      Successfully uninstalled gridencoder-0.0.0\n",
            "Successfully installed gridencoder-0.0.0\n",
            "Processing /content/torch-ngp/cs1430-let-me-take-a-nerfie/shencoder\n",
            "\u001b[33m  DEPRECATION: A future pip version will change local packages to be built in-place without first copying to a temporary directory. We recommend you use --use-feature=in-tree-build to test your packages with this new behavior before it becomes the default.\n",
            "   pip 21.3 will remove support for this functionality. You can find discussion regarding this at https://github.com/pypa/pip/issues/7555.\u001b[0m\n",
            "Building wheels for collected packages: shencoder\n",
            "  Building wheel for shencoder (setup.py) ... \u001b[?25l\u001b[?25hdone\n",
            "  Created wheel for shencoder: filename=shencoder-0.0.0-cp37-cp37m-linux_x86_64.whl size=1152904 sha256=85d08a16d22b374162b1f0e1cb83e2be02980ff0a6b8872fe4148bcaf8b76c07\n",
            "  Stored in directory: /tmp/pip-ephem-wheel-cache-909xz343/wheels/9d/62/5d/06bf08ff342e8df10dce6326537a2928ecf2998a5b6f9f2cf4\n",
            "Successfully built shencoder\n",
            "Installing collected packages: shencoder\n",
            "  Attempting uninstall: shencoder\n",
            "    Found existing installation: shencoder 0.0.0\n",
            "    Uninstalling shencoder-0.0.0:\n",
            "      Successfully uninstalled shencoder-0.0.0\n",
            "Successfully installed shencoder-0.0.0\n"
          ]
        }
      ],
      "source": [
        "!./scripts/install_ext.sh"
      ]
    },
    {
      "cell_type": "markdown",
      "metadata": {
        "id": "5VurGuMNtM-s"
      },
      "source": [
        "##Train"
      ]
    },
    {
      "cell_type": "code",
      "execution_count": 12,
      "metadata": {
        "id": "daR4ecuNSFtU"
      },
      "outputs": [],
      "source": [
        "# !python main_nerf.py ../instant-ngp/data/nerf/fox --workspace trial_nerf --fp16 "
      ]
    },
    {
      "cell_type": "markdown",
      "source": [
        ""
      ],
      "metadata": {
        "id": "ni78ITQ6APx6"
      }
    },
    {
      "cell_type": "markdown",
      "metadata": {
        "id": "1HHYkEertOo8"
      },
      "source": [
        "#Test"
      ]
    },
    {
      "cell_type": "code",
      "execution_count": 13,
      "metadata": {
        "id": "28q6avScrrC8"
      },
      "outputs": [],
      "source": [
        "# !python main_nerf.py ../instant-ngp/data/nerf/fox --workspace trial_nerf --fp16 --test"
      ]
    },
    {
      "cell_type": "markdown",
      "metadata": {
        "id": "7y6p19j8t_UH"
      },
      "source": [
        "#HYPERPARAMETER TUNING"
      ]
    },
    {
      "cell_type": "markdown",
      "metadata": {
        "id": "Q3BIetKUOcJs"
      },
      "source": [
        "Visualize GridEncoder"
      ]
    },
    {
      "cell_type": "code",
      "execution_count": 14,
      "metadata": {
        "id": "Wk8Lf5JOEkrI"
      },
      "outputs": [],
      "source": [
        "from gridencoder import GridEncoder"
      ]
    },
    {
      "cell_type": "code",
      "execution_count": 31,
      "metadata": {
        "id": "kucz5MywOv2m"
      },
      "outputs": [],
      "source": [
        "# Sample hyperparams\n",
        "hp = {\n",
        "  'd': 3, \n",
        "  'L': 16,\n",
        "  'F': 2,\n",
        "  'N_min': 16,\n",
        "  'b': 1.26,\n",
        "  'gridtype': 'hash',\n",
        "  'log2_hashmap_size': 19,\n",
        "} "
      ]
    },
    {
      "cell_type": "code",
      "execution_count": 32,
      "metadata": {
        "colab": {
          "base_uri": "https://localhost:8080/",
          "height": 363
        },
        "id": "sHBx9A_TNdsi",
        "outputId": "dc34a94f-da9e-45b6-a26e-5f3461179450"
      },
      "outputs": [
        {
          "output_type": "stream",
          "name": "stdout",
          "text": [
            "offsets tensor([      0,    4913,   15561,   35244,   74548,  148636,  289244,  576740,\n",
            "        1101028, 1625316, 2149604, 2673892, 3198180, 3722468, 4246756, 4771044,\n",
            "        5295332], dtype=torch.int32)\n"
          ]
        },
        {
          "output_type": "display_data",
          "data": {
            "text/plain": [
              "<Figure size 432x288 with 1 Axes>"
            ],
            "image/png": "[encoded data removed]"
          },
          "metadata": {
            "needs_background": "light"
          }
        }
      ],
      "source": [
        "ge = GridEncoder(**hp)"
      ]
    },
    {
      "cell_type": "markdown",
      "metadata": {
        "id": "cb082JBAOD3V"
      },
      "source": [
        "Define hyperparams"
      ]
    },
    {
      "cell_type": "code",
      "execution_count": 33,
      "metadata": {
        "id": "ayOYHNrVJrIc"
      },
      "outputs": [],
      "source": [
        "import pickle\n",
        "import numpy as np\n",
        "import os"
      ]
    },
    {
      "cell_type": "code",
      "execution_count": 34,
      "metadata": {
        "id": "0IQb2cxku0a_"
      },
      "outputs": [],
      "source": [
        "hyperparams = []\n",
        "\n",
        "# b_vals = np.linspace(1.38, 2, 4)\n",
        "b_vals = [2]\n",
        "F_vals = [2, 4, 8]\n",
        "\n",
        "\n",
        "for b in b_vals:\n",
        "  for f in F_vals:\n",
        "    hp = {\n",
        "      'd': 3, \n",
        "      'L': 16,\n",
        "      'F': f,\n",
        "      'N_min': 16,\n",
        "      # 'b': b,\n",
        "      'gridtype': 'hash',\n",
        "      'log2_hashmap_size': 19,\n",
        "    } \n",
        "    hyperparams.append(hp)\n",
        "  "
      ]
    },
    {
      "cell_type": "markdown",
      "metadata": {
        "id": "tKQpbkqhOIwV"
      },
      "source": [
        "Save hyperparams"
      ]
    },
    {
      "cell_type": "code",
      "source": [
        "!mkdir -p gridencoder/hyperparams"
      ],
      "metadata": {
        "id": "3cPj6IeqXCKk"
      },
      "execution_count": 35,
      "outputs": []
    },
    {
      "cell_type": "code",
      "execution_count": 36,
      "metadata": {
        "id": "BhraiOyjI4_3"
      },
      "outputs": [],
      "source": [
        "for i, hp in enumerate(hyperparams):\n",
        "  with open(f'gridencoder/hyperparams/hp_F={F_vals[i]}.pickle', 'wb') as f:\n",
        "      pickle.dump(hp, f)"
      ]
    },
    {
      "cell_type": "markdown",
      "metadata": {
        "id": "E3m6zQmhOAy9"
      },
      "source": [
        "Train with Hyperparams"
      ]
    },
    {
      "cell_type": "code",
      "source": [
        "!python main_nerf.py ../nerf_example_data/nerf_synthetic/lego/ --workspace trial_nerf_lego --fp16 -hyperparams_path gridencoder/hyperparams/hp_F=4.pickle --mode blender"
      ],
      "metadata": {
        "colab": {
          "base_uri": "https://localhost:8080/"
        },
        "id": "yIw9ZMNExqOu",
        "outputId": "a6463d79-291d-4fea-c950-aaf4ee7549ed"
      },
      "execution_count": 21,
      "outputs": [
        {
          "output_type": "stream",
          "name": "stdout",
          "text": [
            "Namespace(H=1080, O=False, W=1920, bound=2, ckpt='latest', clip_text='', cuda_ray=False, dt_gamma=0.00390625, error_map=False, fovy=50, fp16=True, gui=False, hyperparams_path='gridencoder/hyperparams/hp_F=4.pickle', iters=30000, lr=0.01, max_ray_batch=4096, max_spp=64, mode='blender', num_rays=4096, num_steps=512, path='../nerf_example_data/nerf_synthetic/lego/', preload=False, radius=5, rand_pose=-1, scale=0.33, seed=0, tcnn=False, test=False, upsample_steps=0, workspace='trial_nerf_lego')\n",
            "offsets tensor([      0,    4913,   20538,   63413,  188413,  561661, 1085949, 1610237,\n",
            "        2134525, 2658813, 3183101, 3707389, 4231677, 4755965, 5280253, 5804541,\n",
            "        6328829], dtype=torch.int32)\n",
            "<Figure size 640x480 with 1 Axes>\n",
            "self.in_dim_color 16\n",
            "NeRFNetwork(\n",
            "  (encoder): GridEncoder: d=3 L=16 F=4 N_min=16 b=1.4472692374403782 params=(6328829, 4) gridtype=hash\n",
            "  (sigma_net): ModuleList(\n",
            "    (0): Linear(in_features=64, out_features=64, bias=False)\n",
            "    (1): Linear(in_features=64, out_features=16, bias=False)\n",
            "  )\n",
            "  (encoder_dir): SHEncoder: input_dim=3 degree=4\n",
            "  (color_net): ModuleList(\n",
            "    (0): Linear(in_features=31, out_features=64, bias=False)\n",
            "    (1): Linear(in_features=64, out_features=64, bias=False)\n",
            "    (2): Linear(in_features=64, out_features=3, bias=False)\n",
            "  )\n",
            ")\n",
            "Loading train data:: 100% 100/100 [00:01<00:00, 54.40it/s]\n",
            "\u001b[1m[\u001b[0mINFO\u001b[1m]\u001b[0m Trainer: ngp | \u001b[1;36m2022\u001b[0m-\u001b[1;36m05\u001b[0m-11_02-\u001b[1;36m45\u001b[0m-\u001b[1;36m04\u001b[0m | cuda | fp16 | trial_nerf_lego\n",
            "\u001b[1m[\u001b[0mINFO\u001b[1m]\u001b[0m #parameters: \u001b[1;36m25326708\u001b[0m\n",
            "\u001b[1m[\u001b[0mINFO\u001b[1m]\u001b[0m Loading latest checkpoint \u001b[33m...\u001b[0m\n",
            "\u001b[1m[\u001b[0mINFO\u001b[1m]\u001b[0m Latest checkpoint is trial_nerf_lego/checkpoints/ngp_ep0008.pth.tar\n",
            "\u001b[1m[\u001b[0mINFO\u001b[1m]\u001b[0m loaded model.\n",
            "\u001b[1m[\u001b[0mINFO\u001b[1m]\u001b[0m load at epoch \u001b[1;36m8\u001b[0m, global step \u001b[1;36m800\u001b[0m\n",
            "\u001b[1m[\u001b[0mINFO\u001b[1m]\u001b[0m loaded optimizer.\n",
            "\u001b[1m[\u001b[0mINFO\u001b[1m]\u001b[0m loaded scheduler.\n",
            "\u001b[1m[\u001b[0mINFO\u001b[1m]\u001b[0m loaded scaler.\n",
            "Loading val data:: 100% 100/100 [00:03<00:00, 33.20it/s]\n",
            "==> Start Training Epoch \u001b[1;36m8\u001b[0m, \u001b[33mlr\u001b[0m=\u001b[1;36m0\u001b[0m\u001b[1;36m.009404\u001b[0m \u001b[33m...\u001b[0m\n",
            "loss=0.0034 (0.0028), lr=0.009333: 100% 100/100 [00:15<00:00,  6.26it/s]\n",
            "==> Finished Epoch \u001b[1;36m8\u001b[0m.\n",
            "==> Start Training Epoch \u001b[1;36m9\u001b[0m, \u001b[33mlr\u001b[0m=\u001b[1;36m0\u001b[0m\u001b[1;36m.009333\u001b[0m \u001b[33m...\u001b[0m\n",
            "loss=0.0023 (0.0028), lr=0.009261: 100% 100/100 [00:15<00:00,  6.27it/s]\n",
            "==> Finished Epoch \u001b[1;36m9\u001b[0m.\n",
            "==> Start Training Epoch \u001b[1;36m10\u001b[0m, \u001b[33mlr\u001b[0m=\u001b[1;36m0\u001b[0m\u001b[1;36m.009261\u001b[0m \u001b[33m...\u001b[0m\n",
            "loss=0.0026 (0.0025), lr=0.009190: 100% 100/100 [00:15<00:00,  6.26it/s]\n",
            "==> Finished Epoch \u001b[1;36m10\u001b[0m.\n",
            "==> Start Training Epoch \u001b[1;36m11\u001b[0m, \u001b[33mlr\u001b[0m=\u001b[1;36m0\u001b[0m\u001b[1;36m.009190\u001b[0m \u001b[33m...\u001b[0m\n",
            "loss=0.0025 (0.0022), lr=0.009120: 100% 100/100 [00:15<00:00,  6.28it/s]\n",
            "==> Finished Epoch \u001b[1;36m11\u001b[0m.\n",
            "==> Start Training Epoch \u001b[1;36m12\u001b[0m, \u001b[33mlr\u001b[0m=\u001b[1;36m0\u001b[0m\u001b[1;36m.009120\u001b[0m \u001b[33m...\u001b[0m\n",
            "loss=0.0017 (0.0021), lr=0.009050: 100% 100/100 [00:15<00:00,  6.29it/s]\n",
            "==> Finished Epoch \u001b[1;36m12\u001b[0m.\n",
            "==> Start Training Epoch \u001b[1;36m13\u001b[0m, \u001b[33mlr\u001b[0m=\u001b[1;36m0\u001b[0m\u001b[1;36m.009050\u001b[0m \u001b[33m...\u001b[0m\n",
            "loss=0.0019 (0.0019), lr=0.008981: 100% 100/100 [00:16<00:00,  6.23it/s]\n",
            "==> Finished Epoch \u001b[1;36m13\u001b[0m.\n",
            "==> Start Training Epoch \u001b[1;36m14\u001b[0m, \u001b[33mlr\u001b[0m=\u001b[1;36m0\u001b[0m\u001b[1;36m.008981\u001b[0m \u001b[33m...\u001b[0m\n",
            "loss=0.0021 (0.0018), lr=0.008913: 100% 100/100 [00:15<00:00,  6.30it/s]\n",
            "==> Finished Epoch \u001b[1;36m14\u001b[0m.\n",
            "==> Start Training Epoch \u001b[1;36m15\u001b[0m, \u001b[33mlr\u001b[0m=\u001b[1;36m0\u001b[0m\u001b[1;36m.008913\u001b[0m \u001b[33m...\u001b[0m\n",
            "loss=0.0019 (0.0017), lr=0.008844: 100% 100/100 [00:15<00:00,  6.28it/s]\n",
            "==> Finished Epoch \u001b[1;36m15\u001b[0m.\n",
            "==> Start Training Epoch \u001b[1;36m16\u001b[0m, \u001b[33mlr\u001b[0m=\u001b[1;36m0\u001b[0m\u001b[1;36m.008844\u001b[0m \u001b[33m...\u001b[0m\n",
            "loss=0.0025 (0.0023), lr=0.008777: 100% 100/100 [00:15<00:00,  6.30it/s]\n",
            "==> Finished Epoch \u001b[1;36m16\u001b[0m.\n",
            "==> Start Training Epoch \u001b[1;36m17\u001b[0m, \u001b[33mlr\u001b[0m=\u001b[1;36m0\u001b[0m\u001b[1;36m.008777\u001b[0m \u001b[33m...\u001b[0m\n",
            "loss=0.0022 (0.0022), lr=0.008710: 100% 100/100 [00:15<00:00,  6.30it/s]\n",
            "==> Finished Epoch \u001b[1;36m17\u001b[0m.\n",
            "==> Start Training Epoch \u001b[1;36m18\u001b[0m, \u001b[33mlr\u001b[0m=\u001b[1;36m0\u001b[0m\u001b[1;36m.008710\u001b[0m \u001b[33m...\u001b[0m\n",
            "loss=0.0022 (0.0022), lr=0.008643: 100% 100/100 [00:15<00:00,  6.29it/s]\n",
            "==> Finished Epoch \u001b[1;36m18\u001b[0m.\n",
            "==> Start Training Epoch \u001b[1;36m19\u001b[0m, \u001b[33mlr\u001b[0m=\u001b[1;36m0\u001b[0m\u001b[1;36m.008643\u001b[0m \u001b[33m...\u001b[0m\n",
            "loss=0.0021 (0.0021), lr=0.008577: 100% 100/100 [00:15<00:00,  6.27it/s]\n",
            "==> Finished Epoch \u001b[1;36m19\u001b[0m.\n",
            "==> Start Training Epoch \u001b[1;36m20\u001b[0m, \u001b[33mlr\u001b[0m=\u001b[1;36m0\u001b[0m\u001b[1;36m.008577\u001b[0m \u001b[33m...\u001b[0m\n",
            "loss=0.0012 (0.0021), lr=0.008511: 100% 100/100 [00:15<00:00,  6.28it/s]\n",
            "==> Finished Epoch \u001b[1;36m20\u001b[0m.\n",
            "==> Start Training Epoch \u001b[1;36m21\u001b[0m, \u001b[33mlr\u001b[0m=\u001b[1;36m0\u001b[0m\u001b[1;36m.008511\u001b[0m \u001b[33m...\u001b[0m\n",
            "loss=0.0030 (0.0021), lr=0.008446: 100% 100/100 [00:15<00:00,  6.28it/s]\n",
            "==> Finished Epoch \u001b[1;36m21\u001b[0m.\n",
            "==> Start Training Epoch \u001b[1;36m22\u001b[0m, \u001b[33mlr\u001b[0m=\u001b[1;36m0\u001b[0m\u001b[1;36m.008446\u001b[0m \u001b[33m...\u001b[0m\n",
            "loss=0.0012 (0.0020), lr=0.008382: 100% 100/100 [00:15<00:00,  6.27it/s]\n",
            "==> Finished Epoch \u001b[1;36m22\u001b[0m.\n",
            "==> Start Training Epoch \u001b[1;36m23\u001b[0m, \u001b[33mlr\u001b[0m=\u001b[1;36m0\u001b[0m\u001b[1;36m.008382\u001b[0m \u001b[33m...\u001b[0m\n",
            "loss=0.0026 (0.0020), lr=0.008318: 100% 100/100 [00:15<00:00,  6.27it/s]\n",
            "==> Finished Epoch \u001b[1;36m23\u001b[0m.\n",
            "==> Start Training Epoch \u001b[1;36m24\u001b[0m, \u001b[33mlr\u001b[0m=\u001b[1;36m0\u001b[0m\u001b[1;36m.008318\u001b[0m \u001b[33m...\u001b[0m\n",
            "loss=0.0018 (0.0020), lr=0.008254: 100% 100/100 [00:15<00:00,  6.27it/s]\n",
            "==> Finished Epoch \u001b[1;36m24\u001b[0m.\n",
            "==> Start Training Epoch \u001b[1;36m25\u001b[0m, \u001b[33mlr\u001b[0m=\u001b[1;36m0\u001b[0m\u001b[1;36m.008254\u001b[0m \u001b[33m...\u001b[0m\n",
            "loss=0.0018 (0.0020), lr=0.008191: 100% 100/100 [00:15<00:00,  6.27it/s]\n",
            "==> Finished Epoch \u001b[1;36m25\u001b[0m.\n",
            "==> Start Training Epoch \u001b[1;36m26\u001b[0m, \u001b[33mlr\u001b[0m=\u001b[1;36m0\u001b[0m\u001b[1;36m.008191\u001b[0m \u001b[33m...\u001b[0m\n",
            "loss=0.0024 (0.0019), lr=0.008128: 100% 100/100 [00:15<00:00,  6.26it/s]\n",
            "==> Finished Epoch \u001b[1;36m26\u001b[0m.\n",
            "==> Start Training Epoch \u001b[1;36m27\u001b[0m, \u001b[33mlr\u001b[0m=\u001b[1;36m0\u001b[0m\u001b[1;36m.008128\u001b[0m \u001b[33m...\u001b[0m\n",
            "loss=0.0017 (0.0019), lr=0.008066: 100% 100/100 [00:15<00:00,  6.27it/s]\n",
            "==> Finished Epoch \u001b[1;36m27\u001b[0m.\n",
            "==> Start Training Epoch \u001b[1;36m28\u001b[0m, \u001b[33mlr\u001b[0m=\u001b[1;36m0\u001b[0m\u001b[1;36m.008066\u001b[0m \u001b[33m...\u001b[0m\n",
            "loss=0.0019 (0.0019), lr=0.008004: 100% 100/100 [00:15<00:00,  6.27it/s]\n",
            "==> Finished Epoch \u001b[1;36m28\u001b[0m.\n",
            "==> Start Training Epoch \u001b[1;36m29\u001b[0m, \u001b[33mlr\u001b[0m=\u001b[1;36m0\u001b[0m\u001b[1;36m.008004\u001b[0m \u001b[33m...\u001b[0m\n",
            "loss=0.0016 (0.0018), lr=0.007943: 100% 100/100 [00:15<00:00,  6.26it/s]\n",
            "==> Finished Epoch \u001b[1;36m29\u001b[0m.\n",
            "==> Start Training Epoch \u001b[1;36m30\u001b[0m, \u001b[33mlr\u001b[0m=\u001b[1;36m0\u001b[0m\u001b[1;36m.007943\u001b[0m \u001b[33m...\u001b[0m\n",
            "loss=0.0017 (0.0018), lr=0.007883: 100% 100/100 [00:15<00:00,  6.26it/s]\n",
            "==> Finished Epoch \u001b[1;36m30\u001b[0m.\n",
            "==> Start Training Epoch \u001b[1;36m31\u001b[0m, \u001b[33mlr\u001b[0m=\u001b[1;36m0\u001b[0m\u001b[1;36m.007883\u001b[0m \u001b[33m...\u001b[0m\n",
            "loss=0.0017 (0.0018), lr=0.007822: 100% 100/100 [00:15<00:00,  6.26it/s]\n",
            "==> Finished Epoch \u001b[1;36m31\u001b[0m.\n",
            "==> Start Training Epoch \u001b[1;36m32\u001b[0m, \u001b[33mlr\u001b[0m=\u001b[1;36m0\u001b[0m\u001b[1;36m.007822\u001b[0m \u001b[33m...\u001b[0m\n",
            "loss=0.0018 (0.0018), lr=0.007762: 100% 100/100 [00:15<00:00,  6.26it/s]\n",
            "==> Finished Epoch \u001b[1;36m32\u001b[0m.\n",
            "==> Start Training Epoch \u001b[1;36m33\u001b[0m, \u001b[33mlr\u001b[0m=\u001b[1;36m0\u001b[0m\u001b[1;36m.007762\u001b[0m \u001b[33m...\u001b[0m\n",
            "loss=0.0022 (0.0018), lr=0.007703: 100% 100/100 [00:15<00:00,  6.26it/s]\n",
            "==> Finished Epoch \u001b[1;36m33\u001b[0m.\n",
            "==> Start Training Epoch \u001b[1;36m34\u001b[0m, \u001b[33mlr\u001b[0m=\u001b[1;36m0\u001b[0m\u001b[1;36m.007703\u001b[0m \u001b[33m...\u001b[0m\n",
            "loss=0.0014 (0.0018), lr=0.007644: 100% 100/100 [00:15<00:00,  6.27it/s]\n",
            "==> Finished Epoch \u001b[1;36m34\u001b[0m.\n",
            "==> Start Training Epoch \u001b[1;36m35\u001b[0m, \u001b[33mlr\u001b[0m=\u001b[1;36m0\u001b[0m\u001b[1;36m.007644\u001b[0m \u001b[33m...\u001b[0m\n",
            "loss=0.0017 (0.0018), lr=0.007586: 100% 100/100 [00:15<00:00,  6.27it/s]\n",
            "==> Finished Epoch \u001b[1;36m35\u001b[0m.\n",
            "==> Start Training Epoch \u001b[1;36m36\u001b[0m, \u001b[33mlr\u001b[0m=\u001b[1;36m0\u001b[0m\u001b[1;36m.007586\u001b[0m \u001b[33m...\u001b[0m\n",
            "loss=0.0015 (0.0017), lr=0.007528: 100% 100/100 [00:15<00:00,  6.26it/s]\n",
            "==> Finished Epoch \u001b[1;36m36\u001b[0m.\n",
            "==> Start Training Epoch \u001b[1;36m37\u001b[0m, \u001b[33mlr\u001b[0m=\u001b[1;36m0\u001b[0m\u001b[1;36m.007528\u001b[0m \u001b[33m...\u001b[0m\n",
            "loss=0.0017 (0.0017), lr=0.007470: 100% 100/100 [00:15<00:00,  6.26it/s]\n",
            "==> Finished Epoch \u001b[1;36m37\u001b[0m.\n",
            "==> Start Training Epoch \u001b[1;36m38\u001b[0m, \u001b[33mlr\u001b[0m=\u001b[1;36m0\u001b[0m\u001b[1;36m.007470\u001b[0m \u001b[33m...\u001b[0m\n",
            "loss=0.0015 (0.0017), lr=0.007413: 100% 100/100 [00:15<00:00,  6.26it/s]\n",
            "==> Finished Epoch \u001b[1;36m38\u001b[0m.\n",
            "==> Start Training Epoch \u001b[1;36m39\u001b[0m, \u001b[33mlr\u001b[0m=\u001b[1;36m0\u001b[0m\u001b[1;36m.007413\u001b[0m \u001b[33m...\u001b[0m\n",
            "loss=0.0021 (0.0017), lr=0.007356: 100% 100/100 [00:16<00:00,  6.25it/s]\n",
            "==> Finished Epoch \u001b[1;36m39\u001b[0m.\n",
            "==> Start Training Epoch \u001b[1;36m40\u001b[0m, \u001b[33mlr\u001b[0m=\u001b[1;36m0\u001b[0m\u001b[1;36m.007356\u001b[0m \u001b[33m...\u001b[0m\n",
            "loss=0.0018 (0.0017), lr=0.007300: 100% 100/100 [00:15<00:00,  6.26it/s]\n",
            "==> Finished Epoch \u001b[1;36m40\u001b[0m.\n",
            "==> Start Training Epoch \u001b[1;36m41\u001b[0m, \u001b[33mlr\u001b[0m=\u001b[1;36m0\u001b[0m\u001b[1;36m.007300\u001b[0m \u001b[33m...\u001b[0m\n",
            "loss=0.0021 (0.0017), lr=0.007244: 100% 100/100 [00:15<00:00,  6.27it/s]\n",
            "==> Finished Epoch \u001b[1;36m41\u001b[0m.\n",
            "==> Start Training Epoch \u001b[1;36m42\u001b[0m, \u001b[33mlr\u001b[0m=\u001b[1;36m0\u001b[0m\u001b[1;36m.007244\u001b[0m \u001b[33m...\u001b[0m\n",
            "loss=0.0015 (0.0017), lr=0.007189: 100% 100/100 [00:15<00:00,  6.27it/s]\n",
            "==> Finished Epoch \u001b[1;36m42\u001b[0m.\n",
            "==> Start Training Epoch \u001b[1;36m43\u001b[0m, \u001b[33mlr\u001b[0m=\u001b[1;36m0\u001b[0m\u001b[1;36m.007189\u001b[0m \u001b[33m...\u001b[0m\n",
            "loss=0.0019 (0.0017), lr=0.007134: 100% 100/100 [00:15<00:00,  6.27it/s]\n",
            "==> Finished Epoch \u001b[1;36m43\u001b[0m.\n",
            "==> Start Training Epoch \u001b[1;36m44\u001b[0m, \u001b[33mlr\u001b[0m=\u001b[1;36m0\u001b[0m\u001b[1;36m.007134\u001b[0m \u001b[33m...\u001b[0m\n",
            "loss=0.0017 (0.0016), lr=0.007079: 100% 100/100 [00:15<00:00,  6.26it/s]\n",
            "==> Finished Epoch \u001b[1;36m44\u001b[0m.\n",
            "==> Start Training Epoch \u001b[1;36m45\u001b[0m, \u001b[33mlr\u001b[0m=\u001b[1;36m0\u001b[0m\u001b[1;36m.007079\u001b[0m \u001b[33m...\u001b[0m\n",
            "loss=0.0018 (0.0017), lr=0.007025: 100% 100/100 [00:15<00:00,  6.27it/s]\n",
            "==> Finished Epoch \u001b[1;36m45\u001b[0m.\n",
            "==> Start Training Epoch \u001b[1;36m46\u001b[0m, \u001b[33mlr\u001b[0m=\u001b[1;36m0\u001b[0m\u001b[1;36m.007025\u001b[0m \u001b[33m...\u001b[0m\n",
            "loss=0.0013 (0.0016), lr=0.006972: 100% 100/100 [00:15<00:00,  6.27it/s]\n",
            "==> Finished Epoch \u001b[1;36m46\u001b[0m.\n",
            "==> Start Training Epoch \u001b[1;36m47\u001b[0m, \u001b[33mlr\u001b[0m=\u001b[1;36m0\u001b[0m\u001b[1;36m.006972\u001b[0m \u001b[33m...\u001b[0m\n",
            "loss=0.0018 (0.0016), lr=0.006918: 100% 100/100 [00:15<00:00,  6.25it/s]\n",
            "==> Finished Epoch \u001b[1;36m47\u001b[0m.\n",
            "==> Start Training Epoch \u001b[1;36m48\u001b[0m, \u001b[33mlr\u001b[0m=\u001b[1;36m0\u001b[0m\u001b[1;36m.006918\u001b[0m \u001b[33m...\u001b[0m\n",
            "loss=0.0019 (0.0016), lr=0.006865: 100% 100/100 [00:15<00:00,  6.25it/s]\n",
            "==> Finished Epoch \u001b[1;36m48\u001b[0m.\n",
            "==> Start Training Epoch \u001b[1;36m49\u001b[0m, \u001b[33mlr\u001b[0m=\u001b[1;36m0\u001b[0m\u001b[1;36m.006865\u001b[0m \u001b[33m...\u001b[0m\n",
            "loss=0.0016 (0.0016), lr=0.006813: 100% 100/100 [00:15<00:00,  6.27it/s]\n",
            "==> Finished Epoch \u001b[1;36m49\u001b[0m.\n",
            "==> Start Training Epoch \u001b[1;36m50\u001b[0m, \u001b[33mlr\u001b[0m=\u001b[1;36m0\u001b[0m\u001b[1;36m.006813\u001b[0m \u001b[33m...\u001b[0m\n",
            "loss=0.0017 (0.0016), lr=0.006761: 100% 100/100 [00:15<00:00,  6.25it/s]\n",
            "==> Finished Epoch \u001b[1;36m50\u001b[0m.\n",
            "++> Evaluate at epoch \u001b[1;36m50\u001b[0m \u001b[33m...\u001b[0m\n",
            "loss=0.0026 (0.0018): 100% 100/100 [07:02<00:00,  4.23s/it]\n",
            "\u001b[34mPSNR = \u001b[0m\u001b[1;36m27.638304\u001b[0m\n",
            "++> Evaluate epoch \u001b[1;36m50\u001b[0m Finished.\n",
            "\u001b[1m[\u001b[0mINFO\u001b[1m]\u001b[0m New best result: \u001b[3;35mNone\u001b[0m --> \u001b[1;36m0.0017695138847921043\u001b[0m\n",
            "==> Start Training Epoch \u001b[1;36m51\u001b[0m, \u001b[33mlr\u001b[0m=\u001b[1;36m0\u001b[0m\u001b[1;36m.006761\u001b[0m \u001b[33m...\u001b[0m\n",
            "loss=0.0013 (0.0016), lr=0.006709: 100% 100/100 [00:15<00:00,  6.25it/s]\n",
            "==> Finished Epoch \u001b[1;36m51\u001b[0m.\n",
            "==> Start Training Epoch \u001b[1;36m52\u001b[0m, \u001b[33mlr\u001b[0m=\u001b[1;36m0\u001b[0m\u001b[1;36m.006709\u001b[0m \u001b[33m...\u001b[0m\n",
            "loss=0.0013 (0.0016), lr=0.006658: 100% 100/100 [00:16<00:00,  6.22it/s]\n",
            "==> Finished Epoch \u001b[1;36m52\u001b[0m.\n",
            "==> Start Training Epoch \u001b[1;36m53\u001b[0m, \u001b[33mlr\u001b[0m=\u001b[1;36m0\u001b[0m\u001b[1;36m.006658\u001b[0m \u001b[33m...\u001b[0m\n",
            "loss=0.0016 (0.0016), lr=0.006607: 100% 100/100 [00:15<00:00,  6.27it/s]\n",
            "==> Finished Epoch \u001b[1;36m53\u001b[0m.\n",
            "==> Start Training Epoch \u001b[1;36m54\u001b[0m, \u001b[33mlr\u001b[0m=\u001b[1;36m0\u001b[0m\u001b[1;36m.006607\u001b[0m \u001b[33m...\u001b[0m\n",
            "loss=0.0013 (0.0016), lr=0.006556: 100% 100/100 [00:15<00:00,  6.26it/s]\n",
            "==> Finished Epoch \u001b[1;36m54\u001b[0m.\n",
            "==> Start Training Epoch \u001b[1;36m55\u001b[0m, \u001b[33mlr\u001b[0m=\u001b[1;36m0\u001b[0m\u001b[1;36m.006556\u001b[0m \u001b[33m...\u001b[0m\n",
            "loss=0.0011 (0.0016), lr=0.006506: 100% 100/100 [00:15<00:00,  6.27it/s]\n",
            "==> Finished Epoch \u001b[1;36m55\u001b[0m.\n",
            "==> Start Training Epoch \u001b[1;36m56\u001b[0m, \u001b[33mlr\u001b[0m=\u001b[1;36m0\u001b[0m\u001b[1;36m.006506\u001b[0m \u001b[33m...\u001b[0m\n",
            "loss=0.0015 (0.0016), lr=0.006457: 100% 100/100 [00:15<00:00,  6.27it/s]\n",
            "==> Finished Epoch \u001b[1;36m56\u001b[0m.\n",
            "==> Start Training Epoch \u001b[1;36m57\u001b[0m, \u001b[33mlr\u001b[0m=\u001b[1;36m0\u001b[0m\u001b[1;36m.006457\u001b[0m \u001b[33m...\u001b[0m\n",
            "loss=0.0011 (0.0015), lr=0.006407: 100% 100/100 [00:15<00:00,  6.26it/s]\n",
            "==> Finished Epoch \u001b[1;36m57\u001b[0m.\n",
            "==> Start Training Epoch \u001b[1;36m58\u001b[0m, \u001b[33mlr\u001b[0m=\u001b[1;36m0\u001b[0m\u001b[1;36m.006407\u001b[0m \u001b[33m...\u001b[0m\n",
            "loss=0.0016 (0.0015), lr=0.006358: 100% 100/100 [00:15<00:00,  6.27it/s]\n",
            "==> Finished Epoch \u001b[1;36m58\u001b[0m.\n",
            "==> Start Training Epoch \u001b[1;36m59\u001b[0m, \u001b[33mlr\u001b[0m=\u001b[1;36m0\u001b[0m\u001b[1;36m.006358\u001b[0m \u001b[33m...\u001b[0m\n",
            "loss=0.0016 (0.0015), lr=0.006310: 100% 100/100 [00:15<00:00,  6.27it/s]\n",
            "==> Finished Epoch \u001b[1;36m59\u001b[0m.\n",
            "==> Start Training Epoch \u001b[1;36m60\u001b[0m, \u001b[33mlr\u001b[0m=\u001b[1;36m0\u001b[0m\u001b[1;36m.006310\u001b[0m \u001b[33m...\u001b[0m\n",
            "loss=0.0018 (0.0016), lr=0.006261: 100% 100/100 [00:15<00:00,  6.27it/s]\n",
            "==> Finished Epoch \u001b[1;36m60\u001b[0m.\n",
            "==> Start Training Epoch \u001b[1;36m61\u001b[0m, \u001b[33mlr\u001b[0m=\u001b[1;36m0\u001b[0m\u001b[1;36m.006261\u001b[0m \u001b[33m...\u001b[0m\n",
            "loss=0.0014 (0.0016), lr=0.006213: 100% 100/100 [00:15<00:00,  6.27it/s]\n",
            "==> Finished Epoch \u001b[1;36m61\u001b[0m.\n",
            "==> Start Training Epoch \u001b[1;36m62\u001b[0m, \u001b[33mlr\u001b[0m=\u001b[1;36m0\u001b[0m\u001b[1;36m.006213\u001b[0m \u001b[33m...\u001b[0m\n",
            "loss=0.0023 (0.0015), lr=0.006166: 100% 100/100 [00:15<00:00,  6.26it/s]\n",
            "==> Finished Epoch \u001b[1;36m62\u001b[0m.\n",
            "==> Start Training Epoch \u001b[1;36m63\u001b[0m, \u001b[33mlr\u001b[0m=\u001b[1;36m0\u001b[0m\u001b[1;36m.006166\u001b[0m \u001b[33m...\u001b[0m\n",
            "loss=0.0018 (0.0015), lr=0.006119: 100% 100/100 [00:16<00:00,  6.25it/s]\n",
            "==> Finished Epoch \u001b[1;36m63\u001b[0m.\n",
            "==> Start Training Epoch \u001b[1;36m64\u001b[0m, \u001b[33mlr\u001b[0m=\u001b[1;36m0\u001b[0m\u001b[1;36m.006119\u001b[0m \u001b[33m...\u001b[0m\n",
            "loss=0.0014 (0.0015), lr=0.006072: 100% 100/100 [00:16<00:00,  6.24it/s]\n",
            "==> Finished Epoch \u001b[1;36m64\u001b[0m.\n",
            "==> Start Training Epoch \u001b[1;36m65\u001b[0m, \u001b[33mlr\u001b[0m=\u001b[1;36m0\u001b[0m\u001b[1;36m.006072\u001b[0m \u001b[33m...\u001b[0m\n",
            "loss=0.0014 (0.0015), lr=0.006026: 100% 100/100 [00:16<00:00,  6.25it/s]\n",
            "==> Finished Epoch \u001b[1;36m65\u001b[0m.\n",
            "==> Start Training Epoch \u001b[1;36m66\u001b[0m, \u001b[33mlr\u001b[0m=\u001b[1;36m0\u001b[0m\u001b[1;36m.006026\u001b[0m \u001b[33m...\u001b[0m\n",
            "loss=0.0016 (0.0016), lr=0.005980: 100% 100/100 [00:16<00:00,  6.23it/s]\n",
            "==> Finished Epoch \u001b[1;36m66\u001b[0m.\n",
            "==> Start Training Epoch \u001b[1;36m67\u001b[0m, \u001b[33mlr\u001b[0m=\u001b[1;36m0\u001b[0m\u001b[1;36m.005980\u001b[0m \u001b[33m...\u001b[0m\n",
            "loss=0.0013 (0.0015), lr=0.005934: 100% 100/100 [00:16<00:00,  6.24it/s]\n",
            "==> Finished Epoch \u001b[1;36m67\u001b[0m.\n",
            "==> Start Training Epoch \u001b[1;36m68\u001b[0m, \u001b[33mlr\u001b[0m=\u001b[1;36m0\u001b[0m\u001b[1;36m.005934\u001b[0m \u001b[33m...\u001b[0m\n",
            "loss=0.0014 (0.0015), lr=0.005888: 100% 100/100 [00:16<00:00,  6.23it/s]\n",
            "==> Finished Epoch \u001b[1;36m68\u001b[0m.\n",
            "==> Start Training Epoch \u001b[1;36m69\u001b[0m, \u001b[33mlr\u001b[0m=\u001b[1;36m0\u001b[0m\u001b[1;36m.005888\u001b[0m \u001b[33m...\u001b[0m\n",
            "loss=0.0015 (0.0015), lr=0.005843: 100% 100/100 [00:16<00:00,  6.23it/s]\n",
            "==> Finished Epoch \u001b[1;36m69\u001b[0m.\n",
            "==> Start Training Epoch \u001b[1;36m70\u001b[0m, \u001b[33mlr\u001b[0m=\u001b[1;36m0\u001b[0m\u001b[1;36m.005843\u001b[0m \u001b[33m...\u001b[0m\n",
            "loss=0.0015 (0.0015), lr=0.005799: 100% 100/100 [00:16<00:00,  6.23it/s]\n",
            "==> Finished Epoch \u001b[1;36m70\u001b[0m.\n",
            "==> Start Training Epoch \u001b[1;36m71\u001b[0m, \u001b[33mlr\u001b[0m=\u001b[1;36m0\u001b[0m\u001b[1;36m.005799\u001b[0m \u001b[33m...\u001b[0m\n",
            "loss=0.0014 (0.0014), lr=0.005754: 100% 100/100 [00:16<00:00,  6.23it/s]\n",
            "==> Finished Epoch \u001b[1;36m71\u001b[0m.\n",
            "==> Start Training Epoch \u001b[1;36m72\u001b[0m, \u001b[33mlr\u001b[0m=\u001b[1;36m0\u001b[0m\u001b[1;36m.005754\u001b[0m \u001b[33m...\u001b[0m\n",
            "loss=0.0013 (0.0014), lr=0.005710: 100% 100/100 [00:16<00:00,  6.23it/s]\n",
            "==> Finished Epoch \u001b[1;36m72\u001b[0m.\n",
            "==> Start Training Epoch \u001b[1;36m73\u001b[0m, \u001b[33mlr\u001b[0m=\u001b[1;36m0\u001b[0m\u001b[1;36m.005710\u001b[0m \u001b[33m...\u001b[0m\n",
            "loss=0.0011 (0.0014), lr=0.005667: 100% 100/100 [00:16<00:00,  6.23it/s]\n",
            "==> Finished Epoch \u001b[1;36m73\u001b[0m.\n",
            "==> Start Training Epoch \u001b[1;36m74\u001b[0m, \u001b[33mlr\u001b[0m=\u001b[1;36m0\u001b[0m\u001b[1;36m.005667\u001b[0m \u001b[33m...\u001b[0m\n",
            "loss=0.0031 (0.0015), lr=0.005623: 100% 100/100 [00:16<00:00,  6.23it/s]\n",
            "==> Finished Epoch \u001b[1;36m74\u001b[0m.\n",
            "==> Start Training Epoch \u001b[1;36m75\u001b[0m, \u001b[33mlr\u001b[0m=\u001b[1;36m0\u001b[0m\u001b[1;36m.005623\u001b[0m \u001b[33m...\u001b[0m\n",
            "loss=0.0020 (0.0015), lr=0.005580: 100% 100/100 [00:16<00:00,  6.23it/s]\n",
            "==> Finished Epoch \u001b[1;36m75\u001b[0m.\n",
            "==> Start Training Epoch \u001b[1;36m76\u001b[0m, \u001b[33mlr\u001b[0m=\u001b[1;36m0\u001b[0m\u001b[1;36m.005580\u001b[0m \u001b[33m...\u001b[0m\n",
            "loss=0.0017 (0.0015), lr=0.005538: 100% 100/100 [00:16<00:00,  6.23it/s]\n",
            "==> Finished Epoch \u001b[1;36m76\u001b[0m.\n",
            "==> Start Training Epoch \u001b[1;36m77\u001b[0m, \u001b[33mlr\u001b[0m=\u001b[1;36m0\u001b[0m\u001b[1;36m.005538\u001b[0m \u001b[33m...\u001b[0m\n",
            "loss=0.0016 (0.0015), lr=0.005495: 100% 100/100 [00:16<00:00,  6.24it/s]\n",
            "==> Finished Epoch \u001b[1;36m77\u001b[0m.\n",
            "==> Start Training Epoch \u001b[1;36m78\u001b[0m, \u001b[33mlr\u001b[0m=\u001b[1;36m0\u001b[0m\u001b[1;36m.005495\u001b[0m \u001b[33m...\u001b[0m\n",
            "loss=0.0007 (0.0014), lr=0.005453: 100% 100/100 [00:16<00:00,  6.23it/s]\n",
            "==> Finished Epoch \u001b[1;36m78\u001b[0m.\n",
            "==> Start Training Epoch \u001b[1;36m79\u001b[0m, \u001b[33mlr\u001b[0m=\u001b[1;36m0\u001b[0m\u001b[1;36m.005453\u001b[0m \u001b[33m...\u001b[0m\n",
            "loss=0.0023 (0.0014), lr=0.005412: 100% 100/100 [00:16<00:00,  6.23it/s]\n",
            "==> Finished Epoch \u001b[1;36m79\u001b[0m.\n",
            "==> Start Training Epoch \u001b[1;36m80\u001b[0m, \u001b[33mlr\u001b[0m=\u001b[1;36m0\u001b[0m\u001b[1;36m.005412\u001b[0m \u001b[33m...\u001b[0m\n",
            "loss=0.0013 (0.0014), lr=0.005370: 100% 100/100 [00:16<00:00,  6.23it/s]\n",
            "==> Finished Epoch \u001b[1;36m80\u001b[0m.\n",
            "==> Start Training Epoch \u001b[1;36m81\u001b[0m, \u001b[33mlr\u001b[0m=\u001b[1;36m0\u001b[0m\u001b[1;36m.005370\u001b[0m \u001b[33m...\u001b[0m\n",
            "loss=0.0014 (0.0014), lr=0.005329: 100% 100/100 [00:16<00:00,  6.24it/s]\n",
            "==> Finished Epoch \u001b[1;36m81\u001b[0m.\n",
            "==> Start Training Epoch \u001b[1;36m82\u001b[0m, \u001b[33mlr\u001b[0m=\u001b[1;36m0\u001b[0m\u001b[1;36m.005329\u001b[0m \u001b[33m...\u001b[0m\n",
            "loss=0.0016 (0.0014), lr=0.005289: 100% 100/100 [00:16<00:00,  6.23it/s]\n",
            "==> Finished Epoch \u001b[1;36m82\u001b[0m.\n",
            "==> Start Training Epoch \u001b[1;36m83\u001b[0m, \u001b[33mlr\u001b[0m=\u001b[1;36m0\u001b[0m\u001b[1;36m.005289\u001b[0m \u001b[33m...\u001b[0m\n",
            "loss=0.0015 (0.0015), lr=0.005248: 100% 100/100 [00:16<00:00,  6.23it/s]\n",
            "==> Finished Epoch \u001b[1;36m83\u001b[0m.\n",
            "==> Start Training Epoch \u001b[1;36m84\u001b[0m, \u001b[33mlr\u001b[0m=\u001b[1;36m0\u001b[0m\u001b[1;36m.005248\u001b[0m \u001b[33m...\u001b[0m\n",
            "loss=0.0010 (0.0014), lr=0.005208: 100% 100/100 [00:16<00:00,  6.23it/s]\n",
            "==> Finished Epoch \u001b[1;36m84\u001b[0m.\n",
            "==> Start Training Epoch \u001b[1;36m85\u001b[0m, \u001b[33mlr\u001b[0m=\u001b[1;36m0\u001b[0m\u001b[1;36m.005208\u001b[0m \u001b[33m...\u001b[0m\n",
            "loss=0.0014 (0.0014), lr=0.005168: 100% 100/100 [00:16<00:00,  6.23it/s]\n",
            "==> Finished Epoch \u001b[1;36m85\u001b[0m.\n",
            "==> Start Training Epoch \u001b[1;36m86\u001b[0m, \u001b[33mlr\u001b[0m=\u001b[1;36m0\u001b[0m\u001b[1;36m.005168\u001b[0m \u001b[33m...\u001b[0m\n",
            "loss=0.0014 (0.0014), lr=0.005129: 100% 100/100 [00:16<00:00,  6.23it/s]\n",
            "==> Finished Epoch \u001b[1;36m86\u001b[0m.\n",
            "==> Start Training Epoch \u001b[1;36m87\u001b[0m, \u001b[33mlr\u001b[0m=\u001b[1;36m0\u001b[0m\u001b[1;36m.005129\u001b[0m \u001b[33m...\u001b[0m\n",
            "loss=0.0016 (0.0014), lr=0.005089: 100% 100/100 [00:16<00:00,  6.22it/s]\n",
            "==> Finished Epoch \u001b[1;36m87\u001b[0m.\n",
            "==> Start Training Epoch \u001b[1;36m88\u001b[0m, \u001b[33mlr\u001b[0m=\u001b[1;36m0\u001b[0m\u001b[1;36m.005089\u001b[0m \u001b[33m...\u001b[0m\n",
            "loss=0.0019 (0.0014), lr=0.005050: 100% 100/100 [00:16<00:00,  6.23it/s]\n",
            "==> Finished Epoch \u001b[1;36m88\u001b[0m.\n",
            "==> Start Training Epoch \u001b[1;36m89\u001b[0m, \u001b[33mlr\u001b[0m=\u001b[1;36m0\u001b[0m\u001b[1;36m.005050\u001b[0m \u001b[33m...\u001b[0m\n",
            "loss=0.0013 (0.0014), lr=0.005012: 100% 100/100 [00:16<00:00,  6.23it/s]\n",
            "==> Finished Epoch \u001b[1;36m89\u001b[0m.\n",
            "==> Start Training Epoch \u001b[1;36m90\u001b[0m, \u001b[33mlr\u001b[0m=\u001b[1;36m0\u001b[0m\u001b[1;36m.005012\u001b[0m \u001b[33m...\u001b[0m\n",
            "loss=0.0018 (0.0014), lr=0.004974: 100% 100/100 [00:16<00:00,  6.23it/s]\n",
            "==> Finished Epoch \u001b[1;36m90\u001b[0m.\n",
            "==> Start Training Epoch \u001b[1;36m91\u001b[0m, \u001b[33mlr\u001b[0m=\u001b[1;36m0\u001b[0m\u001b[1;36m.004974\u001b[0m \u001b[33m...\u001b[0m\n",
            "loss=0.0018 (0.0014), lr=0.004936: 100% 100/100 [00:16<00:00,  6.23it/s]\n",
            "==> Finished Epoch \u001b[1;36m91\u001b[0m.\n",
            "==> Start Training Epoch \u001b[1;36m92\u001b[0m, \u001b[33mlr\u001b[0m=\u001b[1;36m0\u001b[0m\u001b[1;36m.004936\u001b[0m \u001b[33m...\u001b[0m\n",
            "loss=0.0014 (0.0014), lr=0.004898: 100% 100/100 [00:16<00:00,  6.23it/s]\n",
            "==> Finished Epoch \u001b[1;36m92\u001b[0m.\n",
            "==> Start Training Epoch \u001b[1;36m93\u001b[0m, \u001b[33mlr\u001b[0m=\u001b[1;36m0\u001b[0m\u001b[1;36m.004898\u001b[0m \u001b[33m...\u001b[0m\n",
            "loss=0.0015 (0.0014), lr=0.004860: 100% 100/100 [00:16<00:00,  6.23it/s]\n",
            "==> Finished Epoch \u001b[1;36m93\u001b[0m.\n",
            "==> Start Training Epoch \u001b[1;36m94\u001b[0m, \u001b[33mlr\u001b[0m=\u001b[1;36m0\u001b[0m\u001b[1;36m.004860\u001b[0m \u001b[33m...\u001b[0m\n",
            "loss=0.0010 (0.0014), lr=0.004823: 100% 100/100 [00:16<00:00,  6.23it/s]\n",
            "==> Finished Epoch \u001b[1;36m94\u001b[0m.\n",
            "==> Start Training Epoch \u001b[1;36m95\u001b[0m, \u001b[33mlr\u001b[0m=\u001b[1;36m0\u001b[0m\u001b[1;36m.004823\u001b[0m \u001b[33m...\u001b[0m\n",
            "loss=0.0013 (0.0014), lr=0.004786: 100% 100/100 [00:16<00:00,  6.23it/s]\n",
            "==> Finished Epoch \u001b[1;36m95\u001b[0m.\n",
            "==> Start Training Epoch \u001b[1;36m96\u001b[0m, \u001b[33mlr\u001b[0m=\u001b[1;36m0\u001b[0m\u001b[1;36m.004786\u001b[0m \u001b[33m...\u001b[0m\n",
            "loss=0.0023 (0.0014), lr=0.004750: 100% 100/100 [00:16<00:00,  6.23it/s]\n",
            "==> Finished Epoch \u001b[1;36m96\u001b[0m.\n",
            "==> Start Training Epoch \u001b[1;36m97\u001b[0m, \u001b[33mlr\u001b[0m=\u001b[1;36m0\u001b[0m\u001b[1;36m.004750\u001b[0m \u001b[33m...\u001b[0m\n",
            "loss=0.0010 (0.0014), lr=0.004713: 100% 100/100 [00:16<00:00,  6.22it/s]\n",
            "==> Finished Epoch \u001b[1;36m97\u001b[0m.\n",
            "==> Start Training Epoch \u001b[1;36m98\u001b[0m, \u001b[33mlr\u001b[0m=\u001b[1;36m0\u001b[0m\u001b[1;36m.004713\u001b[0m \u001b[33m...\u001b[0m\n",
            "loss=0.0017 (0.0014), lr=0.004677: 100% 100/100 [00:16<00:00,  6.23it/s]\n",
            "==> Finished Epoch \u001b[1;36m98\u001b[0m.\n",
            "==> Start Training Epoch \u001b[1;36m99\u001b[0m, \u001b[33mlr\u001b[0m=\u001b[1;36m0\u001b[0m\u001b[1;36m.004677\u001b[0m \u001b[33m...\u001b[0m\n",
            "loss=0.0014 (0.0013), lr=0.004642: 100% 100/100 [00:16<00:00,  6.23it/s]\n",
            "==> Finished Epoch \u001b[1;36m99\u001b[0m.\n",
            "==> Start Training Epoch \u001b[1;36m100\u001b[0m, \u001b[33mlr\u001b[0m=\u001b[1;36m0\u001b[0m\u001b[1;36m.004642\u001b[0m \u001b[33m...\u001b[0m\n",
            "loss=0.0016 (0.0013), lr=0.004606: 100% 100/100 [00:16<00:00,  6.23it/s]\n",
            "==> Finished Epoch \u001b[1;36m100\u001b[0m.\n",
            "++> Evaluate at epoch \u001b[1;36m100\u001b[0m \u001b[33m...\u001b[0m\n",
            "loss=0.0054 (0.0017): 100% 100/100 [07:03<00:00,  4.24s/it]\n",
            "\u001b[34mPSNR = \u001b[0m\u001b[1;36m27.805007\u001b[0m\n",
            "++> Evaluate epoch \u001b[1;36m100\u001b[0m Finished.\n",
            "\u001b[1m[\u001b[0mINFO\u001b[1m]\u001b[0m New best result: \u001b[1;36m0.0017695138847921043\u001b[0m --> \u001b[1;36m0.001747944455128163\u001b[0m\n",
            "==> Start Training Epoch \u001b[1;36m101\u001b[0m, \u001b[33mlr\u001b[0m=\u001b[1;36m0\u001b[0m\u001b[1;36m.004606\u001b[0m \u001b[33m...\u001b[0m\n",
            "loss=0.0014 (0.0013), lr=0.004571: 100% 100/100 [00:16<00:00,  6.22it/s]\n",
            "==> Finished Epoch \u001b[1;36m101\u001b[0m.\n",
            "==> Start Training Epoch \u001b[1;36m102\u001b[0m, \u001b[33mlr\u001b[0m=\u001b[1;36m0\u001b[0m\u001b[1;36m.004571\u001b[0m \u001b[33m...\u001b[0m\n",
            "loss=0.0008 (0.0014), lr=0.004536: 100% 100/100 [00:16<00:00,  6.22it/s]\n",
            "==> Finished Epoch \u001b[1;36m102\u001b[0m.\n",
            "==> Start Training Epoch \u001b[1;36m103\u001b[0m, \u001b[33mlr\u001b[0m=\u001b[1;36m0\u001b[0m\u001b[1;36m.004536\u001b[0m \u001b[33m...\u001b[0m\n",
            "loss=0.0012 (0.0014), lr=0.004501: 100% 100/100 [00:16<00:00,  6.23it/s]\n",
            "==> Finished Epoch \u001b[1;36m103\u001b[0m.\n",
            "==> Start Training Epoch \u001b[1;36m104\u001b[0m, \u001b[33mlr\u001b[0m=\u001b[1;36m0\u001b[0m\u001b[1;36m.004501\u001b[0m \u001b[33m...\u001b[0m\n",
            "loss=0.0015 (0.0014), lr=0.004467: 100% 100/100 [00:16<00:00,  6.22it/s]\n",
            "==> Finished Epoch \u001b[1;36m104\u001b[0m.\n",
            "==> Start Training Epoch \u001b[1;36m105\u001b[0m, \u001b[33mlr\u001b[0m=\u001b[1;36m0\u001b[0m\u001b[1;36m.004467\u001b[0m \u001b[33m...\u001b[0m\n",
            "loss=0.0013 (0.0013), lr=0.004433: 100% 100/100 [00:16<00:00,  6.23it/s]\n",
            "==> Finished Epoch \u001b[1;36m105\u001b[0m.\n",
            "==> Start Training Epoch \u001b[1;36m106\u001b[0m, \u001b[33mlr\u001b[0m=\u001b[1;36m0\u001b[0m\u001b[1;36m.004433\u001b[0m \u001b[33m...\u001b[0m\n",
            "loss=0.0015 (0.0014), lr=0.004399: 100% 100/100 [00:16<00:00,  6.23it/s]\n",
            "==> Finished Epoch \u001b[1;36m106\u001b[0m.\n",
            "==> Start Training Epoch \u001b[1;36m107\u001b[0m, \u001b[33mlr\u001b[0m=\u001b[1;36m0\u001b[0m\u001b[1;36m.004399\u001b[0m \u001b[33m...\u001b[0m\n",
            "loss=0.0015 (0.0013), lr=0.004365: 100% 100/100 [00:16<00:00,  6.23it/s]\n",
            "==> Finished Epoch \u001b[1;36m107\u001b[0m.\n",
            "==> Start Training Epoch \u001b[1;36m108\u001b[0m, \u001b[33mlr\u001b[0m=\u001b[1;36m0\u001b[0m\u001b[1;36m.004365\u001b[0m \u001b[33m...\u001b[0m\n",
            "loss=0.0017 (0.0013), lr=0.004332: 100% 100/100 [00:16<00:00,  6.23it/s]\n",
            "==> Finished Epoch \u001b[1;36m108\u001b[0m.\n",
            "==> Start Training Epoch \u001b[1;36m109\u001b[0m, \u001b[33mlr\u001b[0m=\u001b[1;36m0\u001b[0m\u001b[1;36m.004332\u001b[0m \u001b[33m...\u001b[0m\n",
            "loss=0.0011 (0.0013), lr=0.004299: 100% 100/100 [00:16<00:00,  6.24it/s]\n",
            "==> Finished Epoch \u001b[1;36m109\u001b[0m.\n",
            "==> Start Training Epoch \u001b[1;36m110\u001b[0m, \u001b[33mlr\u001b[0m=\u001b[1;36m0\u001b[0m\u001b[1;36m.004299\u001b[0m \u001b[33m...\u001b[0m\n",
            "loss=0.0013 (0.0013), lr=0.004266: 100% 100/100 [00:16<00:00,  6.23it/s]\n",
            "==> Finished Epoch \u001b[1;36m110\u001b[0m.\n",
            "==> Start Training Epoch \u001b[1;36m111\u001b[0m, \u001b[33mlr\u001b[0m=\u001b[1;36m0\u001b[0m\u001b[1;36m.004266\u001b[0m \u001b[33m...\u001b[0m\n",
            "loss=0.0011 (0.0013), lr=0.004233: 100% 100/100 [00:16<00:00,  6.23it/s]\n",
            "==> Finished Epoch \u001b[1;36m111\u001b[0m.\n",
            "==> Start Training Epoch \u001b[1;36m112\u001b[0m, \u001b[33mlr\u001b[0m=\u001b[1;36m0\u001b[0m\u001b[1;36m.004233\u001b[0m \u001b[33m...\u001b[0m\n",
            "loss=0.0016 (0.0013), lr=0.004201: 100% 100/100 [00:16<00:00,  6.22it/s]\n",
            "==> Finished Epoch \u001b[1;36m112\u001b[0m.\n",
            "==> Start Training Epoch \u001b[1;36m113\u001b[0m, \u001b[33mlr\u001b[0m=\u001b[1;36m0\u001b[0m\u001b[1;36m.004201\u001b[0m \u001b[33m...\u001b[0m\n",
            "loss=0.0010 (0.0014), lr=0.004169: 100% 100/100 [00:16<00:00,  6.23it/s]\n",
            "==> Finished Epoch \u001b[1;36m113\u001b[0m.\n",
            "==> Start Training Epoch \u001b[1;36m114\u001b[0m, \u001b[33mlr\u001b[0m=\u001b[1;36m0\u001b[0m\u001b[1;36m.004169\u001b[0m \u001b[33m...\u001b[0m\n",
            "loss=0.0012 (0.0013), lr=0.004137: 100% 100/100 [00:16<00:00,  6.23it/s]\n",
            "==> Finished Epoch \u001b[1;36m114\u001b[0m.\n",
            "==> Start Training Epoch \u001b[1;36m115\u001b[0m, \u001b[33mlr\u001b[0m=\u001b[1;36m0\u001b[0m\u001b[1;36m.004137\u001b[0m \u001b[33m...\u001b[0m\n",
            "loss=0.0011 (0.0013), lr=0.004105: 100% 100/100 [00:16<00:00,  6.22it/s]\n",
            "==> Finished Epoch \u001b[1;36m115\u001b[0m.\n",
            "==> Start Training Epoch \u001b[1;36m116\u001b[0m, \u001b[33mlr\u001b[0m=\u001b[1;36m0\u001b[0m\u001b[1;36m.004105\u001b[0m \u001b[33m...\u001b[0m\n",
            "loss=0.0014 (0.0013), lr=0.004074: 100% 100/100 [00:16<00:00,  6.23it/s]\n",
            "==> Finished Epoch \u001b[1;36m116\u001b[0m.\n",
            "==> Start Training Epoch \u001b[1;36m117\u001b[0m, \u001b[33mlr\u001b[0m=\u001b[1;36m0\u001b[0m\u001b[1;36m.004074\u001b[0m \u001b[33m...\u001b[0m\n",
            "loss=0.0016 (0.0013), lr=0.004043: 100% 100/100 [00:16<00:00,  6.23it/s]\n",
            "==> Finished Epoch \u001b[1;36m117\u001b[0m.\n",
            "==> Start Training Epoch \u001b[1;36m118\u001b[0m, \u001b[33mlr\u001b[0m=\u001b[1;36m0\u001b[0m\u001b[1;36m.004043\u001b[0m \u001b[33m...\u001b[0m\n",
            "\n"
          ]
        }
      ]
    },
    {
      "cell_type": "code",
      "source": [
        "!python main_nerf.py ../nerf_example_data/nerf_synthetic/lego/ --workspace trial_nerf_lego --fp16 -hyperparams_path gridencoder/hyperparams/hp_F=4.pickle --mode blender --test"
      ],
      "metadata": {
        "colab": {
          "base_uri": "https://localhost:8080/"
        },
        "id": "Z29l8Pq8xDb4",
        "outputId": "3570012a-896b-42b5-de04-c252f344dcc6"
      },
      "execution_count": 22,
      "outputs": [
        {
          "output_type": "stream",
          "name": "stdout",
          "text": [
            "Namespace(H=1080, O=False, W=1920, bound=2, ckpt='latest', clip_text='', cuda_ray=False, dt_gamma=0.00390625, error_map=False, fovy=50, fp16=True, gui=False, hyperparams_path='gridencoder/hyperparams/hp_F=4.pickle', iters=30000, lr=0.01, max_ray_batch=4096, max_spp=64, mode='blender', num_rays=4096, num_steps=512, path='../nerf_example_data/nerf_synthetic/lego/', preload=False, radius=5, rand_pose=-1, scale=0.33, seed=0, tcnn=False, test=True, upsample_steps=0, workspace='trial_nerf_lego')\n",
            "offsets tensor([      0,    4913,   20538,   63413,  188413,  561661, 1085949, 1610237,\n",
            "        2134525, 2658813, 3183101, 3707389, 4231677, 4755965, 5280253, 5804541,\n",
            "        6328829], dtype=torch.int32)\n",
            "<Figure size 640x480 with 1 Axes>\n",
            "self.in_dim_color 16\n",
            "NeRFNetwork(\n",
            "  (encoder): GridEncoder: d=3 L=16 F=4 N_min=16 b=1.4472692374403782 params=(6328829, 4) gridtype=hash\n",
            "  (sigma_net): ModuleList(\n",
            "    (0): Linear(in_features=64, out_features=64, bias=False)\n",
            "    (1): Linear(in_features=64, out_features=16, bias=False)\n",
            "  )\n",
            "  (encoder_dir): SHEncoder: input_dim=3 degree=4\n",
            "  (color_net): ModuleList(\n",
            "    (0): Linear(in_features=31, out_features=64, bias=False)\n",
            "    (1): Linear(in_features=64, out_features=64, bias=False)\n",
            "    (2): Linear(in_features=64, out_features=3, bias=False)\n",
            "  )\n",
            ")\n",
            "\u001b[1m[\u001b[0mINFO\u001b[1m]\u001b[0m Trainer: ngp | \u001b[1;36m2022\u001b[0m-\u001b[1;36m05\u001b[0m-11_03-\u001b[1;36m33\u001b[0m-\u001b[1;36m03\u001b[0m | cuda | fp16 | trial_nerf_lego\n",
            "\u001b[1m[\u001b[0mINFO\u001b[1m]\u001b[0m #parameters: \u001b[1;36m25326708\u001b[0m\n",
            "\u001b[1m[\u001b[0mINFO\u001b[1m]\u001b[0m Loading latest checkpoint \u001b[33m...\u001b[0m\n",
            "\u001b[1m[\u001b[0mINFO\u001b[1m]\u001b[0m Latest checkpoint is trial_nerf_lego/checkpoints/ngp_ep0117.pth.tar\n",
            "\u001b[1m[\u001b[0mINFO\u001b[1m]\u001b[0m loaded model.\n",
            "\u001b[1m[\u001b[0mINFO\u001b[1m]\u001b[0m load at epoch \u001b[1;36m117\u001b[0m, global step \u001b[1;36m11800\u001b[0m\n",
            "\u001b[1m[\u001b[0mWARN\u001b[1m]\u001b[0m Failed to load optimizer.\n",
            "\u001b[1m[\u001b[0mINFO\u001b[1m]\u001b[0m loaded scheduler.\n",
            "\u001b[1m[\u001b[0mINFO\u001b[1m]\u001b[0m loaded scaler.\n",
            "Loading test data:: 100% 200/200 [00:03<00:00, 53.84it/s]\n",
            "tcmalloc: large alloc 2048000000 bytes == 0xf1e3a000 @  0x7f349cec81e7 0x7f33e0c630ce 0x7f33e0cb9cf5 0x7f33e0d6286d 0x7f33e0d6317f 0x7f33e0d632d0 0x4bc4ab 0x7f33e0ca4944 0x59371f 0x515244 0x549576 0x593fce 0x548ae9 0x5127f1 0x549e0e 0x4bca8a 0x7f33e0ca4944 0x59371f 0x515244 0x549576 0x593fce 0x548ae9 0x5127f1 0x549e0e 0x4bca8a 0x532b86 0x594a96 0x548cc1 0x5127f1 0x549576 0x604173\n",
            "++> Evaluate at epoch \u001b[1;36m117\u001b[0m \u001b[33m...\u001b[0m\n",
            "loss=0.0020 (0.0022): 100% 200/200 [13:58<00:00,  4.19s/it]\n",
            "\u001b[34mPSNR = \u001b[0m\u001b[1;36m26.805670\u001b[0m\n",
            "++> Evaluate epoch \u001b[1;36m117\u001b[0m Finished.\n"
          ]
        }
      ]
    },
    {
      "cell_type": "code",
      "source": [
        ""
      ],
      "metadata": {
        "id": "9Zw6cM2ZLU8I"
      },
      "execution_count": null,
      "outputs": []
    }
  ],
  "metadata": {
    "accelerator": "GPU",
    "colab": {
      "collapsed_sections": [],
      "name": "let-me-take-a-nerfie.ipynb",
      "provenance": [],
      "include_colab_link": true
    },
    "kernelspec": {
      "display_name": "Python 3",
      "name": "python3"
    },
    "language_info": {
      "name": "python"
    }
  },
  "nbformat": 4,
  "nbformat_minor": 0
}